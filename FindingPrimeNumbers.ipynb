{
 "cells": [
  {
   "cell_type": "code",
   "execution_count": 15,
   "metadata": {},
   "outputs": [
    {
     "name": "stdin",
     "output_type": "stream",
     "text": [
      "Enter a number : 4\n"
     ]
    }
   ],
   "source": [
    "num = 15 #int(input(\"Enter a number: \"))\n",
    "\n",
    "# öncelikle num değerinin 1'den kesinlikle büyük olması lazım\n",
    "\n",
    "# daha sonra ise 2'yi de dahil edecek şekilde 2'den num'a kadar range(2,num) koşulu yazacağız.\n",
    "\n",
    "# num, bu aralıktaki herhangi bir sayıyla kalansız bölünüyorsa (num % i == 0 ise) print(num, \"is not a prime number\")\n",
    "\n",
    "for num in range(2,num):\n",
    "\n",
    "    if num > 1 :\n",
    "    \n",
    "        for i in range(2, num) :\n",
    "    \n",
    "            if (num % i) == 0 :\n",
    "                #print(num, \"is not a prime number\")\n",
    "                break\n",
    "            else:\n",
    "                print(num)\n",
    "            \n",
    "    else:\n",
    "        print(num,\"is not a prime number\")\n",
    "        \n",
    "\n",
    "\n",
    "\n",
    "    \n",
    "\n",
    "            "
   ]
  },
  {
   "cell_type": "code",
   "execution_count": null,
   "metadata": {},
   "outputs": [],
   "source": []
  },
  {
   "cell_type": "code",
   "execution_count": null,
   "metadata": {},
   "outputs": [],
   "source": []
  }
 ],
 "metadata": {
  "kernelspec": {
   "display_name": "Python 3 (ipykernel)",
   "language": "python",
   "name": "python3"
  },
  "language_info": {
   "codemirror_mode": {
    "name": "ipython",
    "version": 3
   },
   "file_extension": ".py",
   "mimetype": "text/x-python",
   "name": "python",
   "nbconvert_exporter": "python",
   "pygments_lexer": "ipython3",
   "version": "3.8.12"
  }
 },
 "nbformat": 4,
 "nbformat_minor": 4
}
